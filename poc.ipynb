{
 "cells": [
  {
   "cell_type": "markdown",
   "metadata": {},
   "source": [
    "## Package Imports"
   ]
  },
  {
   "cell_type": "code",
   "execution_count": 1,
   "metadata": {},
   "outputs": [],
   "source": [
    "import rioxarray\n",
    "import xarray\n",
    "import numpy as np"
   ]
  },
  {
   "cell_type": "markdown",
   "metadata": {},
   "source": [
    "## Study Area"
   ]
  },
  {
   "cell_type": "markdown",
   "metadata": {},
   "source": [
    "Nallurahalli is a locality in Whitefield which suffered significant flooding in Sep 2022. It was one of the disaster zones which was visited by the then CM Shri BS Yediyurappa.\n",
    "\n",
    "Historically, this area has seen rapid development during recent years and has significant built-up and relatively less green cover due to which the surface run-off can accumulate due to less natural infiltration and swollen drains thereby causing floods.\n",
    "\n",
    "There are mainly 3 internal roads which connect Nallurahalli to nearby highways.\n",
    "- Borewell Road\n",
    "- Siddapura Road\n",
    "- Vydehi Road\n",
    "\n",
    "Study area is taken around these pivotal roads so as to identify potential low-lying zones. If flooding happens around these areas it can affect the masses pretty bad and can cut it off from necessary help. "
   ]
  },
  {
   "cell_type": "code",
   "execution_count": null,
   "metadata": {},
   "outputs": [],
   "source": [
    "from IPython.display import Image\n",
    "from IPython.core.display import HTML \n",
    "Image(url= \"output/img_study_area.png\", width=500, height=500)"
   ]
  },
  {
   "cell_type": "markdown",
   "metadata": {},
   "source": [
    "## Data Gathering"
   ]
  },
  {
   "cell_type": "markdown",
   "metadata": {},
   "source": [
    "- Elevation Data is available as open-source from SRTM mission (Shuttle Radar Topography Mission)\n",
    "- The resolution of the data is 30m (1 arc second)\n",
    "- Sample data for the study region was downloaded from USGS \n",
    "- https://earthexplorer.usgs.gov/"
   ]
  },
  {
   "cell_type": "markdown",
   "metadata": {},
   "source": [
    "## Read SRTM"
   ]
  },
  {
   "cell_type": "code",
   "execution_count": null,
   "metadata": {},
   "outputs": [],
   "source": [
    "pt = './data/n12_e077_1arc_v3.tif'\n",
    "xda = rioxarray.open_rasterio(pt)\n",
    "xda"
   ]
  },
  {
   "cell_type": "code",
   "execution_count": null,
   "metadata": {},
   "outputs": [],
   "source": [
    "xda.data.max(), xda.data.min()"
   ]
  },
  {
   "cell_type": "code",
   "execution_count": null,
   "metadata": {},
   "outputs": [],
   "source": [
    "xda.data"
   ]
  },
  {
   "cell_type": "markdown",
   "metadata": {},
   "source": [
    "## Raster Segmentation"
   ]
  },
  {
   "cell_type": "code",
   "execution_count": null,
   "metadata": {},
   "outputs": [],
   "source": [
    "dtm_arr = xda.data[0]\n",
    "dtm_arr"
   ]
  },
  {
   "cell_type": "code",
   "execution_count": 4,
   "metadata": {},
   "outputs": [],
   "source": [
    "m,n = dtm_arr.shape"
   ]
  },
  {
   "cell_type": "code",
   "execution_count": 5,
   "metadata": {},
   "outputs": [],
   "source": [
    "def nbr_hts(i,j):\n",
    "    return dtm_arr[(max(i-1,0),max(j-1,0))],dtm_arr[(max(i-1,0),j)],dtm_arr[(max(i-1,0),min(j+1,n-1))],dtm_arr[(i,max(j-1,0))],dtm_arr[(i,min(j+1,n-1))],dtm_arr[(min(i+1,m-1),max(j-1,0))],dtm_arr[(min(i+1,m-1),max(j-1,0))],dtm_arr[(min(i+1,m-1),min(j+1,n-1))]"
   ]
  },
  {
   "cell_type": "code",
   "execution_count": null,
   "metadata": {},
   "outputs": [],
   "source": [
    "nbr_hts(0,0)"
   ]
  },
  {
   "cell_type": "code",
   "execution_count": 7,
   "metadata": {},
   "outputs": [],
   "source": [
    "def classify(i,j):\n",
    "    hij = dtm_arr[i,j]\n",
    "    return 1 if hij < min(nbr_hts(i,j)) else 0"
   ]
  },
  {
   "cell_type": "code",
   "execution_count": null,
   "metadata": {},
   "outputs": [],
   "source": [
    "segmented = np.zeros((m,n))\n",
    "for i in range(m):\n",
    "    for j in range(n):\n",
    "        print(i,j)\n",
    "        segmented[i,j] = classify(i,j)"
   ]
  },
  {
   "cell_type": "code",
   "execution_count": null,
   "metadata": {},
   "outputs": [],
   "source": [
    "np.unique(segmented,return_counts=True)"
   ]
  },
  {
   "cell_type": "code",
   "execution_count": 12,
   "metadata": {},
   "outputs": [],
   "source": [
    "segmented_xda = xarray.DataArray(\n",
    "    data=[segmented],\n",
    "    dims=['band','y','x'],\n",
    "    coords=xda.coords,\n",
    "    attrs=dict(\n",
    "        description=\"Low lying areas\",\n",
    "        units=\"boolean\",\n",
    "    )\n",
    ")\n",
    "# out = './output/segmented1.tiff'\n",
    "# segmented_xda.rio.to_raster(out)"
   ]
  },
  {
   "cell_type": "code",
   "execution_count": 26,
   "metadata": {},
   "outputs": [],
   "source": [
    "x = xda.x.values\n",
    "y = xda.y.values\n",
    "x, y = np.meshgrid(x, y)"
   ]
  },
  {
   "cell_type": "code",
   "execution_count": null,
   "metadata": {},
   "outputs": [],
   "source": [
    "x.shape, y.shape, segmented.shape"
   ]
  },
  {
   "cell_type": "code",
   "execution_count": 32,
   "metadata": {},
   "outputs": [],
   "source": [
    "x, y, segmented = x.flatten(), y.flatten(), segmented.flatten()"
   ]
  },
  {
   "cell_type": "code",
   "execution_count": null,
   "metadata": {},
   "outputs": [],
   "source": [
    "import pandas as pd\n",
    "df_seg = pd.DataFrame.from_dict({'label': segmented, 'x': x, 'y': y})\n",
    "df_seg"
   ]
  },
  {
   "cell_type": "code",
   "execution_count": null,
   "metadata": {},
   "outputs": [],
   "source": [
    "df_target = df_seg[df_seg.label == 1].reset_index(drop=True)\n",
    "df_target"
   ]
  },
  {
   "cell_type": "code",
   "execution_count": null,
   "metadata": {},
   "outputs": [],
   "source": [
    "df_target"
   ]
  },
  {
   "cell_type": "code",
   "execution_count": null,
   "metadata": {},
   "outputs": [],
   "source": [
    "import geopandas as gpd\n",
    "df_target_pts = gpd.GeoDataFrame(geometry=gpd.GeoSeries.from_xy(df_target['x'], df_target['y'], crs=xda.rio.crs))\n",
    "df_target_pts = df_target_pts.to_crs('EPSG:4326')\n",
    "df_target_pts"
   ]
  },
  {
   "cell_type": "code",
   "execution_count": 37,
   "metadata": {},
   "outputs": [],
   "source": [
    "out = '/Users/gouher/Documents/personal/codes/geo/urban_flooding/output/low_lying_pts.shp'\n",
    "df_target_pts.to_file(out)"
   ]
  },
  {
   "cell_type": "code",
   "execution_count": 39,
   "metadata": {},
   "outputs": [],
   "source": [
    "out = '/Users/gouher/Documents/personal/codes/geo/urban_flooding/output/low_lying_pts.csv'\n",
    "df_target.to_csv(out,index=False)"
   ]
  },
  {
   "cell_type": "markdown",
   "metadata": {},
   "source": [
    "## Observation"
   ]
  },
  {
   "cell_type": "markdown",
   "metadata": {},
   "source": [
    "- White pixels denote pockets of low-lying zones \n",
    "- Such zones have relatively lower elevation compared to the surrounding pixels\n",
    "- During heavy rain, surface run-off can accumulate in these zones and cause flooding"
   ]
  },
  {
   "cell_type": "code",
   "execution_count": null,
   "metadata": {},
   "outputs": [],
   "source": [
    "Image(url= \"./output/img_segmented.png\", width=500, height=500)"
   ]
  },
  {
   "cell_type": "markdown",
   "metadata": {},
   "source": [
    "## Validation"
   ]
  },
  {
   "cell_type": "markdown",
   "metadata": {},
   "source": [
    "- Red highlighted pixel above is the DNA Opulence Apartments which got flooded during Sep 2022 rains\n",
    "- Similarly above it is SS Felicity Apartments which also got flooded heavily during the same time.\n",
    "- The closeness of these apartments with nearby Storm Water Drain may also have played a part in the flooding."
   ]
  },
  {
   "cell_type": "markdown",
   "metadata": {},
   "source": []
  }
 ],
 "metadata": {
  "kernelspec": {
   "display_name": "geo",
   "language": "python",
   "name": "python3"
  },
  "language_info": {
   "codemirror_mode": {
    "name": "ipython",
    "version": 3
   },
   "file_extension": ".py",
   "mimetype": "text/x-python",
   "name": "python",
   "nbconvert_exporter": "python",
   "pygments_lexer": "ipython3",
   "version": "3.11.9"
  }
 },
 "nbformat": 4,
 "nbformat_minor": 2
}
